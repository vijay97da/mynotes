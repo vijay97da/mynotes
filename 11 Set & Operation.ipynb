{
 "cells": [
  {
   "cell_type": "code",
   "execution_count": 1,
   "id": "d513eca8",
   "metadata": {},
   "outputs": [],
   "source": [
    "set = {}"
   ]
  },
  {
   "cell_type": "code",
   "execution_count": 2,
   "id": "9f34b46a",
   "metadata": {},
   "outputs": [
    {
     "data": {
      "text/plain": [
       "{'a', 'b', 'c'}"
      ]
     },
     "execution_count": 2,
     "metadata": {},
     "output_type": "execute_result"
    }
   ],
   "source": [
    "my_set = {'a' , 'b', 'c'}\n",
    "my_set"
   ]
  },
  {
   "cell_type": "code",
   "execution_count": 3,
   "id": "2f1ec9f5",
   "metadata": {},
   "outputs": [
    {
     "data": {
      "text/plain": [
       "{'a', 'b', 'c'}"
      ]
     },
     "execution_count": 3,
     "metadata": {},
     "output_type": "execute_result"
    }
   ],
   "source": [
    "my_set = {'a' , 'b', 'c', 'a' , 'b', 'c'}   # set elements are duplicate and removed automatically\n",
    "my_set"
   ]
  },
  {
   "cell_type": "code",
   "execution_count": 4,
   "id": "fb7e3371",
   "metadata": {},
   "outputs": [],
   "source": [
    "my_set = {'a.0' , 'b', 'c', 'a' , 'b', 'c'}"
   ]
  },
  {
   "cell_type": "code",
   "execution_count": 5,
   "id": "05b05e4e",
   "metadata": {},
   "outputs": [
    {
     "data": {
      "text/plain": [
       "{'a', 'a.0', 'b', 'c'}"
      ]
     },
     "execution_count": 5,
     "metadata": {},
     "output_type": "execute_result"
    }
   ],
   "source": [
    "my_set"
   ]
  },
  {
   "cell_type": "code",
   "execution_count": 6,
   "id": "feec75cb",
   "metadata": {},
   "outputs": [
    {
     "data": {
      "text/plain": [
       "{1, '1', 1.1, 2, '2', 3, '3'}"
      ]
     },
     "execution_count": 6,
     "metadata": {},
     "output_type": "execute_result"
    }
   ],
   "source": [
    "my_mixed_set = {1, '1', 2, '2', 3, '3', '3', 1.1, True} \n",
    "my_mixed_set"
   ]
  },
  {
   "cell_type": "code",
   "execution_count": 7,
   "id": "aa27d017",
   "metadata": {},
   "outputs": [
    {
     "data": {
      "text/plain": [
       "set"
      ]
     },
     "execution_count": 7,
     "metadata": {},
     "output_type": "execute_result"
    }
   ],
   "source": [
    "type(my_set)"
   ]
  },
  {
   "cell_type": "code",
   "execution_count": 1,
   "id": "6c1fd49e",
   "metadata": {},
   "outputs": [],
   "source": [
    "my_list = [1, '1', 2, '2', 3, 3, 3, '3', '4', 4]  #create a list from which set needs to be formed"
   ]
  },
  {
   "cell_type": "code",
   "execution_count": 3,
   "id": "880be8bc",
   "metadata": {},
   "outputs": [],
   "source": [
    "my_new_set= set(my_list)  "
   ]
  },
  {
   "cell_type": "code",
   "execution_count": 4,
   "id": "aa38409f",
   "metadata": {},
   "outputs": [
    {
     "data": {
      "text/plain": [
       "{1, '1', 2, '2', 3, '3', '4', 4}"
      ]
     },
     "execution_count": 4,
     "metadata": {},
     "output_type": "execute_result"
    }
   ],
   "source": [
    "my_new_set"
   ]
  },
  {
   "cell_type": "code",
   "execution_count": 5,
   "id": "d66ad9dc",
   "metadata": {},
   "outputs": [
    {
     "ename": "TypeError",
     "evalue": "'set' object is not subscriptable",
     "output_type": "error",
     "traceback": [
      "\u001b[1;31m---------------------------------------------------------------------------\u001b[0m",
      "\u001b[1;31mTypeError\u001b[0m                                 Traceback (most recent call last)",
      "Cell \u001b[1;32mIn[5], line 1\u001b[0m\n\u001b[1;32m----> 1\u001b[0m my_new_set[\u001b[38;5;241m3\u001b[39m]\n",
      "\u001b[1;31mTypeError\u001b[0m: 'set' object is not subscriptable"
     ]
    }
   ],
   "source": [
    "my_new_set[3]"
   ]
  },
  {
   "cell_type": "code",
   "execution_count": 6,
   "id": "c72cd428",
   "metadata": {},
   "outputs": [
    {
     "ename": "TypeError",
     "evalue": "'set' object is not subscriptable",
     "output_type": "error",
     "traceback": [
      "\u001b[1;31m---------------------------------------------------------------------------\u001b[0m",
      "\u001b[1;31mTypeError\u001b[0m                                 Traceback (most recent call last)",
      "Cell \u001b[1;32mIn[6], line 1\u001b[0m\n\u001b[1;32m----> 1\u001b[0m my_new_set[:]\n",
      "\u001b[1;31mTypeError\u001b[0m: 'set' object is not subscriptable"
     ]
    }
   ],
   "source": [
    "my_new_set[:]"
   ]
  },
  {
   "cell_type": "code",
   "execution_count": 7,
   "id": "209f7029",
   "metadata": {},
   "outputs": [
    {
     "name": "stdout",
     "output_type": "stream",
     "text": [
      "{'solapur', 'mumbai', 'pune'}\n",
      "<class 'set'>\n"
     ]
    }
   ],
   "source": [
    "my_set = {'mumbai', 'pune', 'solapur'}  #create a set of cities\n",
    "print(my_set)\n",
    "print(type(my_set))"
   ]
  },
  {
   "cell_type": "code",
   "execution_count": 8,
   "id": "91807e7d",
   "metadata": {},
   "outputs": [
    {
     "name": "stdout",
     "output_type": "stream",
     "text": [
      "['solapur', 'mumbai', 'pune']\n",
      "<class 'list'>\n"
     ]
    }
   ],
   "source": [
    "my_new_list = list(my_set) # use list() to convert a set into list\n",
    "\n",
    "print(my_new_list)\n",
    "\n",
    "print(type(my_new_list))"
   ]
  },
  {
   "cell_type": "code",
   "execution_count": 9,
   "id": "8cc925fb",
   "metadata": {},
   "outputs": [
    {
     "data": {
      "text/plain": [
       "{'India', 'US'}"
      ]
     },
     "execution_count": 9,
     "metadata": {},
     "output_type": "execute_result"
    }
   ],
   "source": [
    "country_set = {\"India\", \"US\", \"US\", \"India\"}\n",
    "country_set   #set has only two elements \"India\" and \"US\""
   ]
  },
  {
   "cell_type": "code",
   "execution_count": 10,
   "id": "c64300a5",
   "metadata": {},
   "outputs": [
    {
     "data": {
      "text/plain": [
       "['__and__',\n",
       " '__class__',\n",
       " '__class_getitem__',\n",
       " '__contains__',\n",
       " '__delattr__',\n",
       " '__dir__',\n",
       " '__doc__',\n",
       " '__eq__',\n",
       " '__format__',\n",
       " '__ge__',\n",
       " '__getattribute__',\n",
       " '__getstate__',\n",
       " '__gt__',\n",
       " '__hash__',\n",
       " '__iand__',\n",
       " '__init__',\n",
       " '__init_subclass__',\n",
       " '__ior__',\n",
       " '__isub__',\n",
       " '__iter__',\n",
       " '__ixor__',\n",
       " '__le__',\n",
       " '__len__',\n",
       " '__lt__',\n",
       " '__ne__',\n",
       " '__new__',\n",
       " '__or__',\n",
       " '__rand__',\n",
       " '__reduce__',\n",
       " '__reduce_ex__',\n",
       " '__repr__',\n",
       " '__ror__',\n",
       " '__rsub__',\n",
       " '__rxor__',\n",
       " '__setattr__',\n",
       " '__sizeof__',\n",
       " '__str__',\n",
       " '__sub__',\n",
       " '__subclasshook__',\n",
       " '__xor__',\n",
       " 'add',\n",
       " 'clear',\n",
       " 'copy',\n",
       " 'difference',\n",
       " 'difference_update',\n",
       " 'discard',\n",
       " 'intersection',\n",
       " 'intersection_update',\n",
       " 'isdisjoint',\n",
       " 'issubset',\n",
       " 'issuperset',\n",
       " 'pop',\n",
       " 'remove',\n",
       " 'symmetric_difference',\n",
       " 'symmetric_difference_update',\n",
       " 'union',\n",
       " 'update']"
      ]
     },
     "execution_count": 10,
     "metadata": {},
     "output_type": "execute_result"
    }
   ],
   "source": [
    "dir(set)"
   ]
  },
  {
   "cell_type": "code",
   "execution_count": 11,
   "id": "844eed32",
   "metadata": {},
   "outputs": [
    {
     "data": {
      "text/plain": [
       "{'India', 'UK', 'US'}"
      ]
     },
     "execution_count": 11,
     "metadata": {},
     "output_type": "execute_result"
    }
   ],
   "source": [
    "country_set.add('UK')\n",
    "country_set  #set has three elements \"India\" ,\"US\" & \"UK\""
   ]
  },
  {
   "cell_type": "code",
   "execution_count": 12,
   "id": "01a9d0b0",
   "metadata": {},
   "outputs": [],
   "source": [
    "country_set.add(\"France\")"
   ]
  },
  {
   "cell_type": "code",
   "execution_count": 13,
   "id": "f09877a1",
   "metadata": {},
   "outputs": [
    {
     "data": {
      "text/plain": [
       "{'France', 'India', 'UK', 'US'}"
      ]
     },
     "execution_count": 13,
     "metadata": {},
     "output_type": "execute_result"
    }
   ],
   "source": [
    "country_set"
   ]
  },
  {
   "cell_type": "code",
   "execution_count": 14,
   "id": "c7ae3324",
   "metadata": {},
   "outputs": [
    {
     "data": {
      "text/plain": [
       "{'France', 'India', 'US'}"
      ]
     },
     "execution_count": 14,
     "metadata": {},
     "output_type": "execute_result"
    }
   ],
   "source": [
    "country_set.remove(\"UK\")  # remove \n",
    "country_set  #set has only two elements \"India\" and \"US\""
   ]
  },
  {
   "cell_type": "code",
   "execution_count": 15,
   "id": "be86c31b",
   "metadata": {},
   "outputs": [
    {
     "ename": "TypeError",
     "evalue": "set.remove() takes exactly one argument (0 given)",
     "output_type": "error",
     "traceback": [
      "\u001b[1;31m---------------------------------------------------------------------------\u001b[0m",
      "\u001b[1;31mTypeError\u001b[0m                                 Traceback (most recent call last)",
      "Cell \u001b[1;32mIn[15], line 1\u001b[0m\n\u001b[1;32m----> 1\u001b[0m country_set\u001b[38;5;241m.\u001b[39mremove()\n",
      "\u001b[1;31mTypeError\u001b[0m: set.remove() takes exactly one argument (0 given)"
     ]
    }
   ],
   "source": [
    "country_set.remove()"
   ]
  },
  {
   "cell_type": "code",
   "execution_count": 16,
   "id": "9adca728",
   "metadata": {},
   "outputs": [
    {
     "ename": "KeyError",
     "evalue": "'China'",
     "output_type": "error",
     "traceback": [
      "\u001b[1;31m---------------------------------------------------------------------------\u001b[0m",
      "\u001b[1;31mKeyError\u001b[0m                                  Traceback (most recent call last)",
      "Cell \u001b[1;32mIn[16], line 1\u001b[0m\n\u001b[1;32m----> 1\u001b[0m country_set\u001b[38;5;241m.\u001b[39mremove(\u001b[38;5;124m\"\u001b[39m\u001b[38;5;124mChina\u001b[39m\u001b[38;5;124m\"\u001b[39m)\n",
      "\u001b[1;31mKeyError\u001b[0m: 'China'"
     ]
    }
   ],
   "source": [
    "country_set.remove(\"China\")  # as China not present in the set, error thrown"
   ]
  },
  {
   "cell_type": "code",
   "execution_count": 17,
   "id": "cecd0748",
   "metadata": {},
   "outputs": [],
   "source": [
    "country_set.discard(\"China\")"
   ]
  },
  {
   "cell_type": "code",
   "execution_count": 18,
   "id": "033bdfeb",
   "metadata": {},
   "outputs": [
    {
     "data": {
      "text/plain": [
       "{'France', 'India', 'US'}"
      ]
     },
     "execution_count": 18,
     "metadata": {},
     "output_type": "execute_result"
    }
   ],
   "source": [
    "country_set"
   ]
  },
  {
   "cell_type": "code",
   "execution_count": 19,
   "id": "dcbf9184",
   "metadata": {},
   "outputs": [],
   "source": [
    "country_set.discard(\"US\")"
   ]
  },
  {
   "cell_type": "code",
   "execution_count": 20,
   "id": "73304dbf",
   "metadata": {},
   "outputs": [
    {
     "data": {
      "text/plain": [
       "{'France', 'India'}"
      ]
     },
     "execution_count": 20,
     "metadata": {},
     "output_type": "execute_result"
    }
   ],
   "source": [
    "country_set"
   ]
  },
  {
   "cell_type": "code",
   "execution_count": 21,
   "id": "19d96a0c",
   "metadata": {},
   "outputs": [],
   "source": [
    "test_set = {1, 2, 3, 4, 5}"
   ]
  },
  {
   "cell_type": "code",
   "execution_count": 22,
   "id": "12ef7ed2",
   "metadata": {},
   "outputs": [
    {
     "data": {
      "text/plain": [
       "1"
      ]
     },
     "execution_count": 22,
     "metadata": {},
     "output_type": "execute_result"
    }
   ],
   "source": [
    "test_set.pop() "
   ]
  },
  {
   "cell_type": "code",
   "execution_count": 24,
   "id": "2d90d9eb",
   "metadata": {},
   "outputs": [
    {
     "ename": "TypeError",
     "evalue": "set.pop() takes no arguments (1 given)",
     "output_type": "error",
     "traceback": [
      "\u001b[1;31m---------------------------------------------------------------------------\u001b[0m",
      "\u001b[1;31mTypeError\u001b[0m                                 Traceback (most recent call last)",
      "Cell \u001b[1;32mIn[24], line 1\u001b[0m\n\u001b[1;32m----> 1\u001b[0m test_set\u001b[38;5;241m.\u001b[39mpop(\u001b[38;5;241m2\u001b[39m)\n",
      "\u001b[1;31mTypeError\u001b[0m: set.pop() takes no arguments (1 given)"
     ]
    }
   ],
   "source": [
    "test_set.pop(2)"
   ]
  },
  {
   "cell_type": "code",
   "execution_count": 25,
   "id": "5a52dd09",
   "metadata": {},
   "outputs": [
    {
     "data": {
      "text/plain": [
       "{4, 5, 6}"
      ]
     },
     "execution_count": 25,
     "metadata": {},
     "output_type": "execute_result"
    }
   ],
   "source": [
    "test_set = {4, 5, 6}\n",
    "test_set"
   ]
  },
  {
   "cell_type": "code",
   "execution_count": 26,
   "id": "769f06e3",
   "metadata": {},
   "outputs": [],
   "source": [
    "test_set.clear()"
   ]
  },
  {
   "cell_type": "code",
   "execution_count": 27,
   "id": "282a95bf",
   "metadata": {},
   "outputs": [
    {
     "data": {
      "text/plain": [
       "set()"
      ]
     },
     "execution_count": 27,
     "metadata": {},
     "output_type": "execute_result"
    }
   ],
   "source": [
    "test_set"
   ]
  },
  {
   "cell_type": "code",
   "execution_count": 28,
   "id": "beb8525b",
   "metadata": {},
   "outputs": [
    {
     "data": {
      "text/plain": [
       "True"
      ]
     },
     "execution_count": 28,
     "metadata": {},
     "output_type": "execute_result"
    }
   ],
   "source": [
    "\"India\" in country_set"
   ]
  },
  {
   "cell_type": "code",
   "execution_count": 29,
   "id": "7ee4393b",
   "metadata": {},
   "outputs": [
    {
     "data": {
      "text/plain": [
       "False"
      ]
     },
     "execution_count": 29,
     "metadata": {},
     "output_type": "execute_result"
    }
   ],
   "source": [
    "\"India\" not in country_set"
   ]
  },
  {
   "cell_type": "code",
   "execution_count": 30,
   "id": "31a7e791",
   "metadata": {},
   "outputs": [
    {
     "data": {
      "text/plain": [
       "True"
      ]
     },
     "execution_count": 30,
     "metadata": {},
     "output_type": "execute_result"
    }
   ],
   "source": [
    "\"Australia\" not in country_set"
   ]
  },
  {
   "cell_type": "code",
   "execution_count": 32,
   "id": "815aeb38",
   "metadata": {},
   "outputs": [],
   "source": [
    "maharashtra_cities = {\"Pune\", \"Mumbai\", \"Nagpur\"}\n",
    "\n",
    "goa_cities = {\"Panjim\", \"Vasco\", \"Madgaon\"}\n",
    "\n",
    "western_region_cities = {\"Panjim\", \"Vasco\", \"Pune\", \"Mumbai\", \"Nagpur\"}"
   ]
  },
  {
   "cell_type": "code",
   "execution_count": 33,
   "id": "8c58712e",
   "metadata": {},
   "outputs": [
    {
     "data": {
      "text/plain": [
       "{'Mumbai', 'Nagpur', 'Pune'}"
      ]
     },
     "execution_count": 33,
     "metadata": {},
     "output_type": "execute_result"
    }
   ],
   "source": [
    "maharashtra_cities & western_region_cities  # common cities between two sets"
   ]
  },
  {
   "cell_type": "code",
   "execution_count": 34,
   "id": "c78f36e8",
   "metadata": {},
   "outputs": [
    {
     "data": {
      "text/plain": [
       "{'Panjim', 'Vasco'}"
      ]
     },
     "execution_count": 34,
     "metadata": {},
     "output_type": "execute_result"
    }
   ],
   "source": [
    "goa_cities & western_region_cities "
   ]
  },
  {
   "cell_type": "code",
   "execution_count": 35,
   "id": "2ab74016",
   "metadata": {},
   "outputs": [
    {
     "data": {
      "text/plain": [
       "set()"
      ]
     },
     "execution_count": 35,
     "metadata": {},
     "output_type": "execute_result"
    }
   ],
   "source": [
    "maharashtra_cities & goa_cities "
   ]
  },
  {
   "cell_type": "code",
   "execution_count": 36,
   "id": "1308fe7a",
   "metadata": {},
   "outputs": [
    {
     "data": {
      "text/plain": [
       "{'Mumbai', 'Nagpur', 'Pune'}"
      ]
     },
     "execution_count": 36,
     "metadata": {},
     "output_type": "execute_result"
    }
   ],
   "source": [
    "western_region_cities.intersection(maharashtra_cities)"
   ]
  },
  {
   "cell_type": "code",
   "execution_count": 37,
   "id": "6015c666",
   "metadata": {},
   "outputs": [
    {
     "data": {
      "text/plain": [
       "{'Panjim', 'Vasco'}"
      ]
     },
     "execution_count": 37,
     "metadata": {},
     "output_type": "execute_result"
    }
   ],
   "source": [
    "western_region_cities.intersection(goa_cities)"
   ]
  },
  {
   "cell_type": "code",
   "execution_count": 38,
   "id": "6599938c",
   "metadata": {},
   "outputs": [],
   "source": [
    "maharashtra_cities = {\"Pune\", \"Mumbai\", \"Nagpur\"}\n",
    "\n",
    "goa_cities = {\"Panjim\", \"Vasco\", \"Madgaon\"}\n",
    "\n",
    "western_region_cities = {\"Panjim\", \"Vasco\", \"Pune\", \"Mumbai\", \"Nagpur\"}"
   ]
  },
  {
   "cell_type": "code",
   "execution_count": 39,
   "id": "29866e53",
   "metadata": {},
   "outputs": [
    {
     "data": {
      "text/plain": [
       "{'Panjim', 'Vasco'}"
      ]
     },
     "execution_count": 39,
     "metadata": {},
     "output_type": "execute_result"
    }
   ],
   "source": [
    "western_region_cities - maharashtra_cities "
   ]
  },
  {
   "cell_type": "code",
   "execution_count": 40,
   "id": "806057ac",
   "metadata": {},
   "outputs": [
    {
     "data": {
      "text/plain": [
       "{'Mumbai', 'Nagpur', 'Pune'}"
      ]
     },
     "execution_count": 40,
     "metadata": {},
     "output_type": "execute_result"
    }
   ],
   "source": [
    "western_region_cities - goa_cities"
   ]
  },
  {
   "cell_type": "code",
   "execution_count": 41,
   "id": "3c6e2027",
   "metadata": {},
   "outputs": [
    {
     "data": {
      "text/plain": [
       "{'Mumbai', 'Nagpur', 'Pune'}"
      ]
     },
     "execution_count": 41,
     "metadata": {},
     "output_type": "execute_result"
    }
   ],
   "source": [
    "maharashtra_cities  - goa_cities"
   ]
  },
  {
   "cell_type": "code",
   "execution_count": 42,
   "id": "54973644",
   "metadata": {},
   "outputs": [
    {
     "data": {
      "text/plain": [
       "{'Madgaon', 'Panjim', 'Vasco'}"
      ]
     },
     "execution_count": 42,
     "metadata": {},
     "output_type": "execute_result"
    }
   ],
   "source": [
    "goa_cities - maharashtra_cities"
   ]
  },
  {
   "cell_type": "code",
   "execution_count": 43,
   "id": "26d383e7",
   "metadata": {},
   "outputs": [
    {
     "data": {
      "text/plain": [
       "{'Panjim', 'Vasco'}"
      ]
     },
     "execution_count": 43,
     "metadata": {},
     "output_type": "execute_result"
    }
   ],
   "source": [
    "western_region_cities.difference(maharashtra_cities)"
   ]
  },
  {
   "cell_type": "code",
   "execution_count": 44,
   "id": "c7790343",
   "metadata": {},
   "outputs": [
    {
     "data": {
      "text/plain": [
       "{'Mumbai', 'Nagpur', 'Pune'}"
      ]
     },
     "execution_count": 44,
     "metadata": {},
     "output_type": "execute_result"
    }
   ],
   "source": [
    "western_region_cities.difference(goa_cities)"
   ]
  },
  {
   "cell_type": "code",
   "execution_count": 45,
   "id": "6a5d0219",
   "metadata": {},
   "outputs": [
    {
     "data": {
      "text/plain": [
       "{'Mumbai', 'Nagpur', 'Panjim', 'Pune', 'Vasco'}"
      ]
     },
     "execution_count": 45,
     "metadata": {},
     "output_type": "execute_result"
    }
   ],
   "source": [
    "maharashtra_cities | western_region_cities   "
   ]
  },
  {
   "cell_type": "code",
   "execution_count": 46,
   "id": "03fea0fa",
   "metadata": {},
   "outputs": [
    {
     "data": {
      "text/plain": [
       "{'Madgaon', 'Mumbai', 'Nagpur', 'Panjim', 'Pune', 'Vasco'}"
      ]
     },
     "execution_count": 46,
     "metadata": {},
     "output_type": "execute_result"
    }
   ],
   "source": [
    "goa_cities | western_region_cities"
   ]
  },
  {
   "cell_type": "code",
   "execution_count": 47,
   "id": "fe9d0943",
   "metadata": {},
   "outputs": [
    {
     "data": {
      "text/plain": [
       "{'Madgaon', 'Mumbai', 'Nagpur', 'Panjim', 'Pune', 'Vasco'}"
      ]
     },
     "execution_count": 47,
     "metadata": {},
     "output_type": "execute_result"
    }
   ],
   "source": [
    "maharashtra_cities.union(goa_cities)"
   ]
  },
  {
   "cell_type": "code",
   "execution_count": 48,
   "id": "b6d67e21",
   "metadata": {},
   "outputs": [
    {
     "name": "stdout",
     "output_type": "stream",
     "text": [
      "All languages     {'r', 'java', 'c', 'python', 'c++'}\n",
      "\n",
      "Data Science languages count    2\n",
      "\n",
      "Languages which are not data science languages     {'java', 'c', 'c++'}\n",
      "\n",
      "languages which are both programming language and data science languages     {'python'}\n",
      "\n",
      "Only data science languages     {'r'}\n",
      "\n"
     ]
    }
   ],
   "source": [
    "languages = {'python', 'java', 'c', 'c++'}\n",
    "\n",
    "ds_languages = {\"python\", 'r'}\n",
    "\n",
    "\n",
    "#(a) What are all programming languages are available?\n",
    "print(\"All languages    \" , languages | ds_languages)\n",
    "print()\n",
    "\n",
    "#(b) How many data science languages are available?\n",
    "print(\"Data Science languages count   \" , len(ds_languages))\n",
    "print()\n",
    "\n",
    "#(c) List languages which are not data science languages?\n",
    "print(\"Languages which are not data science languages    \" , languages - ds_languages)\n",
    "print()\n",
    "\n",
    "#(d) List languages which are both programming language and data science languages.\n",
    "print(\"languages which are both programming language and data science languages    \" , languages & ds_languages)\n",
    "print()\n",
    "\n",
    "\n",
    "#(e) List languges which are only data science languages.\n",
    "print(\"Only data science languages    \" , ds_languages - languages)\n",
    "print()"
   ]
  },
  {
   "cell_type": "code",
   "execution_count": 50,
   "id": "bbfbf5a1",
   "metadata": {},
   "outputs": [],
   "source": [
    "student = {\"rahul\", \"megha\", \"manisha\", \"vrushabh\", \"dipali\"}\n",
    "subject = {\"maths\", \"DS\", \"Python\", \"SAP\",\"HR\"}"
   ]
  },
  {
   "cell_type": "code",
   "execution_count": 51,
   "id": "a60ec6c6",
   "metadata": {},
   "outputs": [
    {
     "data": {
      "text/plain": [
       "set()"
      ]
     },
     "execution_count": 51,
     "metadata": {},
     "output_type": "execute_result"
    }
   ],
   "source": [
    "student & subject"
   ]
  },
  {
   "cell_type": "code",
   "execution_count": 52,
   "id": "aa143f3d",
   "metadata": {},
   "outputs": [
    {
     "data": {
      "text/plain": [
       "{'DS',\n",
       " 'HR',\n",
       " 'Python',\n",
       " 'SAP',\n",
       " 'dipali',\n",
       " 'manisha',\n",
       " 'maths',\n",
       " 'megha',\n",
       " 'rahul',\n",
       " 'vrushabh'}"
      ]
     },
     "execution_count": 52,
     "metadata": {},
     "output_type": "execute_result"
    }
   ],
   "source": [
    "student | subject"
   ]
  },
  {
   "cell_type": "code",
   "execution_count": null,
   "id": "015fda6f",
   "metadata": {},
   "outputs": [],
   "source": []
  }
 ],
 "metadata": {
  "kernelspec": {
   "display_name": "Python 3 (ipykernel)",
   "language": "python",
   "name": "python3"
  },
  "language_info": {
   "codemirror_mode": {
    "name": "ipython",
    "version": 3
   },
   "file_extension": ".py",
   "mimetype": "text/x-python",
   "name": "python",
   "nbconvert_exporter": "python",
   "pygments_lexer": "ipython3",
   "version": "3.11.5"
  }
 },
 "nbformat": 4,
 "nbformat_minor": 5
}
