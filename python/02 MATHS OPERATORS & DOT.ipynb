{
 "cells": [
  {
   "cell_type": "markdown",
   "id": "c0a2bb71",
   "metadata": {},
   "source": [
    "# MATH OPERATOR"
   ]
  },
  {
   "cell_type": "code",
   "execution_count": null,
   "id": "11978f1e",
   "metadata": {},
   "outputs": [],
   "source": [
    "math operators \n",
    "\n",
    "+ \n",
    "-\n",
    "=\n",
    "/\n",
    "*\n",
    "<\n",
    ">\n",
    "<=\n",
    ">=\n",
    "!= #NOT EQUAL TO"
   ]
  },
  {
   "cell_type": "code",
   "execution_count": 1,
   "id": "ffd50085",
   "metadata": {},
   "outputs": [],
   "source": [
    "# IN PYTHON MATHS OPERATOR WORK ON BODMAS PATTERN"
   ]
  },
  {
   "cell_type": "code",
   "execution_count": 2,
   "id": "e98f3732",
   "metadata": {},
   "outputs": [],
   "source": [
    "a = 10\n",
    "b = 20\n",
    "c = 30\n",
    "d = 40\n",
    "e = 50"
   ]
  },
  {
   "cell_type": "code",
   "execution_count": 3,
   "id": "934ef9ac",
   "metadata": {},
   "outputs": [
    {
     "name": "stdout",
     "output_type": "stream",
     "text": [
      "10 20 30 40\n"
     ]
    }
   ],
   "source": [
    "print(a,b,c,d)"
   ]
  },
  {
   "cell_type": "code",
   "execution_count": 8,
   "id": "4f8d0fd5",
   "metadata": {},
   "outputs": [],
   "source": [
    "a = \"90\"\n",
    "b = \"70\""
   ]
  },
  {
   "cell_type": "code",
   "execution_count": 11,
   "id": "4fd13bd6",
   "metadata": {},
   "outputs": [
    {
     "name": "stdout",
     "output_type": "stream",
     "text": [
      "90 70\n"
     ]
    }
   ],
   "source": [
    "print(a,b) #JUST BECAUSE I PUT VALUE IN DOUBLE INVERTED COMMAS THATS WHY THEY CONVERT IN STRING\n",
    "           # & STRING DONT GIVE THE RESULT AS YOU WANT EX-"
   ]
  },
  {
   "cell_type": "code",
   "execution_count": 12,
   "id": "69f7f50c",
   "metadata": {},
   "outputs": [
    {
     "ename": "TypeError",
     "evalue": "can't multiply sequence by non-int of type 'str'",
     "output_type": "error",
     "traceback": [
      "\u001b[1;31m---------------------------------------------------------------------------\u001b[0m",
      "\u001b[1;31mTypeError\u001b[0m                                 Traceback (most recent call last)",
      "Cell \u001b[1;32mIn[12], line 1\u001b[0m\n\u001b[1;32m----> 1\u001b[0m a\u001b[38;5;241m*\u001b[39mb\n",
      "\u001b[1;31mTypeError\u001b[0m: can't multiply sequence by non-int of type 'str'"
     ]
    }
   ],
   "source": [
    "a*b"
   ]
  },
  {
   "cell_type": "code",
   "execution_count": 13,
   "id": "dbb6cdc2",
   "metadata": {},
   "outputs": [],
   "source": [
    "a = 10\n",
    "b = 20\n",
    "c = 30\n",
    "d = 40\n",
    "e = 50"
   ]
  },
  {
   "cell_type": "code",
   "execution_count": 14,
   "id": "3e7f0b25",
   "metadata": {},
   "outputs": [
    {
     "data": {
      "text/plain": [
       "170"
      ]
     },
     "execution_count": 14,
     "metadata": {},
     "output_type": "execute_result"
    }
   ],
   "source": [
    "a*b-c #YOU CAN CALCULATE EVERYTHING BY BODMAS RULES"
   ]
  },
  {
   "cell_type": "code",
   "execution_count": 15,
   "id": "3a1f3e7a",
   "metadata": {},
   "outputs": [
    {
     "data": {
      "text/plain": [
       "280.0"
      ]
     },
     "execution_count": 15,
     "metadata": {},
     "output_type": "execute_result"
    }
   ],
   "source": [
    "d/b*c+220"
   ]
  },
  {
   "cell_type": "code",
   "execution_count": 16,
   "id": "b94b0e77",
   "metadata": {},
   "outputs": [
    {
     "data": {
      "text/plain": [
       "1080"
      ]
     },
     "execution_count": 16,
     "metadata": {},
     "output_type": "execute_result"
    }
   ],
   "source": [
    "e+c+1000"
   ]
  },
  {
   "cell_type": "code",
   "execution_count": 17,
   "id": "b5214a27",
   "metadata": {},
   "outputs": [],
   "source": [
    "multi = a,b,c,d"
   ]
  },
  {
   "cell_type": "code",
   "execution_count": 18,
   "id": "c53e1d59",
   "metadata": {},
   "outputs": [
    {
     "name": "stdout",
     "output_type": "stream",
     "text": [
      "(10, 20, 30, 40)\n"
     ]
    }
   ],
   "source": [
    "print(multi)"
   ]
  },
  {
   "cell_type": "code",
   "execution_count": 20,
   "id": "acbbcd61",
   "metadata": {},
   "outputs": [],
   "source": [
    "into = a*b*c*d"
   ]
  },
  {
   "cell_type": "code",
   "execution_count": 21,
   "id": "ab37417c",
   "metadata": {},
   "outputs": [
    {
     "name": "stdout",
     "output_type": "stream",
     "text": [
      "240000\n"
     ]
    }
   ],
   "source": [
    "print(into)"
   ]
  },
  {
   "cell_type": "code",
   "execution_count": 22,
   "id": "c8287c3d",
   "metadata": {},
   "outputs": [
    {
     "data": {
      "text/plain": [
       "20"
      ]
     },
     "execution_count": 22,
     "metadata": {},
     "output_type": "execute_result"
    }
   ],
   "source": [
    "a*2"
   ]
  },
  {
   "cell_type": "markdown",
   "id": "67986682",
   "metadata": {},
   "source": [
    "# CALCULATE POWER OF ANY NUMBER"
   ]
  },
  {
   "cell_type": "code",
   "execution_count": 23,
   "id": "71ec8f3b",
   "metadata": {},
   "outputs": [
    {
     "data": {
      "text/plain": [
       "16"
      ]
     },
     "execution_count": 23,
     "metadata": {},
     "output_type": "execute_result"
    }
   ],
   "source": [
    "4**2 #TAKE THE VALUE OR NUMBER THAT U WANT TO CONVERT INTO POWER PUT ** AND HOW MUCH POWER U WANT LIKE SQUARE,CUBE OR POWER 4"
   ]
  },
  {
   "cell_type": "code",
   "execution_count": 24,
   "id": "40270000",
   "metadata": {},
   "outputs": [
    {
     "data": {
      "text/plain": [
       "400"
      ]
     },
     "execution_count": 24,
     "metadata": {},
     "output_type": "execute_result"
    }
   ],
   "source": [
    "b**2"
   ]
  },
  {
   "cell_type": "code",
   "execution_count": 25,
   "id": "7f4c32c3",
   "metadata": {},
   "outputs": [
    {
     "data": {
      "text/plain": [
       "64"
      ]
     },
     "execution_count": 25,
     "metadata": {},
     "output_type": "execute_result"
    }
   ],
   "source": [
    "4**3"
   ]
  },
  {
   "cell_type": "code",
   "execution_count": 26,
   "id": "55d4b2bd",
   "metadata": {},
   "outputs": [
    {
     "data": {
      "text/plain": [
       "1681"
      ]
     },
     "execution_count": 26,
     "metadata": {},
     "output_type": "execute_result"
    }
   ],
   "source": [
    "41**2"
   ]
  },
  {
   "cell_type": "code",
   "execution_count": 27,
   "id": "ec85db49",
   "metadata": {},
   "outputs": [],
   "source": [
    "#TRUE = 1\n",
    "#FALSE = 0"
   ]
  },
  {
   "cell_type": "code",
   "execution_count": 28,
   "id": "23fe1d6f",
   "metadata": {},
   "outputs": [
    {
     "name": "stdout",
     "output_type": "stream",
     "text": [
      "3\n"
     ]
    }
   ],
   "source": [
    "print(True+True+True-False-False)"
   ]
  },
  {
   "cell_type": "code",
   "execution_count": 29,
   "id": "c09cf2e0",
   "metadata": {},
   "outputs": [
    {
     "ename": "ZeroDivisionError",
     "evalue": "division by zero",
     "output_type": "error",
     "traceback": [
      "\u001b[1;31m---------------------------------------------------------------------------\u001b[0m",
      "\u001b[1;31mZeroDivisionError\u001b[0m                         Traceback (most recent call last)",
      "Cell \u001b[1;32mIn[29], line 1\u001b[0m\n\u001b[1;32m----> 1\u001b[0m \u001b[38;5;28;01mTrue\u001b[39;00m\u001b[38;5;241m/\u001b[39m\u001b[38;5;28;01mFalse\u001b[39;00m\n",
      "\u001b[1;31mZeroDivisionError\u001b[0m: division by zero"
     ]
    }
   ],
   "source": [
    "True/False"
   ]
  },
  {
   "cell_type": "code",
   "execution_count": 30,
   "id": "bfa84055",
   "metadata": {},
   "outputs": [
    {
     "data": {
      "text/plain": [
       "0.0"
      ]
     },
     "execution_count": 30,
     "metadata": {},
     "output_type": "execute_result"
    }
   ],
   "source": [
    "False/True"
   ]
  },
  {
   "cell_type": "code",
   "execution_count": 31,
   "id": "77e00f67",
   "metadata": {},
   "outputs": [],
   "source": [
    "n = 67+8j\n",
    "m = 56+9j"
   ]
  },
  {
   "cell_type": "code",
   "execution_count": 32,
   "id": "dbfb9e13",
   "metadata": {},
   "outputs": [
    {
     "data": {
      "text/plain": [
       "complex"
      ]
     },
     "execution_count": 32,
     "metadata": {},
     "output_type": "execute_result"
    }
   ],
   "source": [
    "type(n)"
   ]
  },
  {
   "cell_type": "code",
   "execution_count": 33,
   "id": "4bd606a4",
   "metadata": {},
   "outputs": [
    {
     "data": {
      "text/plain": [
       "complex"
      ]
     },
     "execution_count": 33,
     "metadata": {},
     "output_type": "execute_result"
    }
   ],
   "source": [
    "type(n)\n",
    "type(m)"
   ]
  },
  {
   "cell_type": "code",
   "execution_count": 34,
   "id": "12816ea1",
   "metadata": {},
   "outputs": [
    {
     "data": {
      "text/plain": [
       "(3680+1051j)"
      ]
     },
     "execution_count": 34,
     "metadata": {},
     "output_type": "execute_result"
    }
   ],
   "source": [
    "n*m"
   ]
  },
  {
   "cell_type": "code",
   "execution_count": 35,
   "id": "d85da0f1",
   "metadata": {},
   "outputs": [
    {
     "data": {
      "text/plain": [
       "(1.188685110351259-0.04818153559216664j)"
      ]
     },
     "execution_count": 35,
     "metadata": {},
     "output_type": "execute_result"
    }
   ],
   "source": [
    "n/m"
   ]
  },
  {
   "cell_type": "code",
   "execution_count": 36,
   "id": "8e09ca6e",
   "metadata": {},
   "outputs": [
    {
     "data": {
      "text/plain": [
       "67.0"
      ]
     },
     "execution_count": 36,
     "metadata": {},
     "output_type": "execute_result"
    }
   ],
   "source": [
    "n.real"
   ]
  },
  {
   "cell_type": "code",
   "execution_count": 37,
   "id": "fbcdca59",
   "metadata": {},
   "outputs": [
    {
     "data": {
      "text/plain": [
       "8.0"
      ]
     },
     "execution_count": 37,
     "metadata": {},
     "output_type": "execute_result"
    }
   ],
   "source": [
    "n.imag"
   ]
  },
  {
   "cell_type": "code",
   "execution_count": 38,
   "id": "6b667000",
   "metadata": {},
   "outputs": [
    {
     "data": {
      "text/plain": [
       "'5vijay'"
      ]
     },
     "execution_count": 38,
     "metadata": {},
     "output_type": "execute_result"
    }
   ],
   "source": [
    "\"5\"+ \"vijay\""
   ]
  },
  {
   "cell_type": "code",
   "execution_count": 42,
   "id": "a767617d",
   "metadata": {},
   "outputs": [
    {
     "data": {
      "text/plain": [
       "'krishnakrishnakrishnakrishna'"
      ]
     },
     "execution_count": 42,
     "metadata": {},
     "output_type": "execute_result"
    }
   ],
   "source": [
    "\"krishna\"+\"krishna\"+\"krishna\"+\"krishna\""
   ]
  },
  {
   "cell_type": "code",
   "execution_count": 43,
   "id": "b55d08cd",
   "metadata": {},
   "outputs": [
    {
     "data": {
      "text/plain": [
       "'krishnakrishnakrishnakrishnakrishnakrishnakrishnakrishna'"
      ]
     },
     "execution_count": 43,
     "metadata": {},
     "output_type": "execute_result"
    }
   ],
   "source": [
    "\"krishna\"*8"
   ]
  },
  {
   "cell_type": "code",
   "execution_count": 44,
   "id": "2b28095e",
   "metadata": {},
   "outputs": [
    {
     "data": {
      "text/plain": [
       "8"
      ]
     },
     "execution_count": 44,
     "metadata": {},
     "output_type": "execute_result"
    }
   ],
   "source": [
    "int(\"8\")"
   ]
  },
  {
   "cell_type": "code",
   "execution_count": 45,
   "id": "97125981",
   "metadata": {},
   "outputs": [
    {
     "data": {
      "text/plain": [
       "int"
      ]
     },
     "execution_count": 45,
     "metadata": {},
     "output_type": "execute_result"
    }
   ],
   "source": [
    "type(int(8))"
   ]
  },
  {
   "cell_type": "code",
   "execution_count": 46,
   "id": "61f42a0e",
   "metadata": {},
   "outputs": [
    {
     "data": {
      "text/plain": [
       "int"
      ]
     },
     "execution_count": 46,
     "metadata": {},
     "output_type": "execute_result"
    }
   ],
   "source": [
    "type(int(\"34\"))"
   ]
  },
  {
   "cell_type": "code",
   "execution_count": 47,
   "id": "4fdb3cd5",
   "metadata": {},
   "outputs": [],
   "source": [
    "supreme = \"krishna\""
   ]
  },
  {
   "cell_type": "code",
   "execution_count": 49,
   "id": "5f60fbf6",
   "metadata": {},
   "outputs": [
    {
     "data": {
      "text/plain": [
       "<function str.upper()>"
      ]
     },
     "execution_count": 49,
     "metadata": {},
     "output_type": "execute_result"
    }
   ],
   "source": [
    "supreme.upper #COMMA IS VERY IMPORTANT"
   ]
  },
  {
   "cell_type": "code",
   "execution_count": 50,
   "id": "8ba3a43d",
   "metadata": {},
   "outputs": [
    {
     "data": {
      "text/plain": [
       "'KRISHNA'"
      ]
     },
     "execution_count": 50,
     "metadata": {},
     "output_type": "execute_result"
    }
   ],
   "source": [
    "supreme.upper()"
   ]
  },
  {
   "cell_type": "code",
   "execution_count": 51,
   "id": "4d710f35",
   "metadata": {},
   "outputs": [
    {
     "data": {
      "text/plain": [
       "'krishna'"
      ]
     },
     "execution_count": 51,
     "metadata": {},
     "output_type": "execute_result"
    }
   ],
   "source": [
    "supreme.lower()"
   ]
  },
  {
   "cell_type": "code",
   "execution_count": 52,
   "id": "5b73259e",
   "metadata": {},
   "outputs": [
    {
     "data": {
      "text/plain": [
       "'Krishna'"
      ]
     },
     "execution_count": 52,
     "metadata": {},
     "output_type": "execute_result"
    }
   ],
   "source": [
    "supreme.title()"
   ]
  },
  {
   "cell_type": "code",
   "execution_count": 53,
   "id": "8c33f8a2",
   "metadata": {},
   "outputs": [
    {
     "data": {
      "text/plain": [
       "'********************krishna*********************'"
      ]
     },
     "execution_count": 53,
     "metadata": {},
     "output_type": "execute_result"
    }
   ],
   "source": [
    "supreme.center(48,\"*\") #IN THIS CASE VARIABLE IN CENTRE & TOTAL WORDS ARE 48 AND ITS COVER BY * SYMBOL"
   ]
  },
  {
   "cell_type": "code",
   "execution_count": 54,
   "id": "453c3965",
   "metadata": {},
   "outputs": [
    {
     "data": {
      "text/plain": [
       "'000000krishna0000000'"
      ]
     },
     "execution_count": 54,
     "metadata": {},
     "output_type": "execute_result"
    }
   ],
   "source": [
    "supreme.center(20,\"0\")"
   ]
  },
  {
   "cell_type": "code",
   "execution_count": null,
   "id": "04c6ca18",
   "metadata": {},
   "outputs": [],
   "source": []
  }
 ],
 "metadata": {
  "kernelspec": {
   "display_name": "Python 3 (ipykernel)",
   "language": "python",
   "name": "python3"
  },
  "language_info": {
   "codemirror_mode": {
    "name": "ipython",
    "version": 3
   },
   "file_extension": ".py",
   "mimetype": "text/x-python",
   "name": "python",
   "nbconvert_exporter": "python",
   "pygments_lexer": "ipython3",
   "version": "3.11.5"
  }
 },
 "nbformat": 4,
 "nbformat_minor": 5
}
