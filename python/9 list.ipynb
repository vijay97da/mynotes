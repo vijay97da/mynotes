{
 "cells": [
  {
   "cell_type": "markdown",
   "id": "c9037a88",
   "metadata": {},
   "source": [
    "# List"
   ]
  },
  {
   "cell_type": "code",
   "execution_count": 1,
   "id": "fd035567",
   "metadata": {},
   "outputs": [
    {
     "data": {
      "text/plain": [
       "[]"
      ]
     },
     "execution_count": 1,
     "metadata": {},
     "output_type": "execute_result"
    }
   ],
   "source": [
    "empty_list = [] \n",
    "empty_list"
   ]
  },
  {
   "cell_type": "code",
   "execution_count": 2,
   "id": "e53ddd15",
   "metadata": {},
   "outputs": [
    {
     "data": {
      "text/plain": [
       "[]"
      ]
     },
     "execution_count": 2,
     "metadata": {},
     "output_type": "execute_result"
    }
   ],
   "source": [
    "other_empty_list = list()\n",
    "other_empty_list"
   ]
  },
  {
   "cell_type": "code",
   "execution_count": 3,
   "id": "01da7f85",
   "metadata": {},
   "outputs": [
    {
     "data": {
      "text/plain": [
       "[1, 2, 3, 4, 5, 6, 7]"
      ]
     },
     "execution_count": 3,
     "metadata": {},
     "output_type": "execute_result"
    }
   ],
   "source": [
    "my_number_list = [1, 2, 3, 4, 5, 6, 7]\n",
    "my_number_list"
   ]
  },
  {
   "cell_type": "code",
   "execution_count": 4,
   "id": "c526c84c",
   "metadata": {},
   "outputs": [
    {
     "data": {
      "text/plain": [
       "[1, 1.1, 'a', True]"
      ]
     },
     "execution_count": 4,
     "metadata": {},
     "output_type": "execute_result"
    }
   ],
   "source": [
    "my_mixed_list = [1, 1.1, 'a', True]\n",
    "my_mixed_list"
   ]
  },
  {
   "cell_type": "code",
   "execution_count": 5,
   "id": "85f29aab",
   "metadata": {},
   "outputs": [
    {
     "data": {
      "text/plain": [
       "list"
      ]
     },
     "execution_count": 5,
     "metadata": {},
     "output_type": "execute_result"
    }
   ],
   "source": [
    "type(my_mixed_list)"
   ]
  },
  {
   "cell_type": "code",
   "execution_count": 6,
   "id": "6eb83535",
   "metadata": {},
   "outputs": [
    {
     "data": {
      "text/plain": [
       "list"
      ]
     },
     "execution_count": 6,
     "metadata": {},
     "output_type": "execute_result"
    }
   ],
   "source": [
    "type(my_number_list)"
   ]
  },
  {
   "cell_type": "code",
   "execution_count": 9,
   "id": "6183e4a1",
   "metadata": {},
   "outputs": [
    {
     "data": {
      "text/plain": [
       "int"
      ]
     },
     "execution_count": 9,
     "metadata": {},
     "output_type": "execute_result"
    }
   ],
   "source": [
    "type(my_mixed_list[0]  )#first element is integer"
   ]
  },
  {
   "cell_type": "code",
   "execution_count": 10,
   "id": "b59921d4",
   "metadata": {},
   "outputs": [
    {
     "data": {
      "text/plain": [
       "bool"
      ]
     },
     "execution_count": 10,
     "metadata": {},
     "output_type": "execute_result"
    }
   ],
   "source": [
    "type(my_mixed_list[3])"
   ]
  },
  {
   "cell_type": "code",
   "execution_count": 11,
   "id": "61ffb421",
   "metadata": {},
   "outputs": [
    {
     "data": {
      "text/plain": [
       "'a'"
      ]
     },
     "execution_count": 11,
     "metadata": {},
     "output_type": "execute_result"
    }
   ],
   "source": [
    "my_mixed_list[2]"
   ]
  },
  {
   "cell_type": "code",
   "execution_count": 12,
   "id": "abb4a606",
   "metadata": {},
   "outputs": [
    {
     "data": {
      "text/plain": [
       "7"
      ]
     },
     "execution_count": 12,
     "metadata": {},
     "output_type": "execute_result"
    }
   ],
   "source": [
    "len(my_number_list)"
   ]
  },
  {
   "cell_type": "code",
   "execution_count": 15,
   "id": "fa3c44f4",
   "metadata": {},
   "outputs": [
    {
     "data": {
      "text/plain": [
       "[0, 1, 2, 3, 4, 5, 6]"
      ]
     },
     "execution_count": 15,
     "metadata": {},
     "output_type": "execute_result"
    }
   ],
   "source": [
    "list(range(len(my_number_list)))"
   ]
  },
  {
   "cell_type": "code",
   "execution_count": 16,
   "id": "54d1821e",
   "metadata": {},
   "outputs": [
    {
     "data": {
      "text/plain": [
       "[1, 2, 3, 4, 5]"
      ]
     },
     "execution_count": 16,
     "metadata": {},
     "output_type": "execute_result"
    }
   ],
   "source": [
    "list1 = [1, 2, 3]\n",
    "list2 = [4, 5]\n",
    "join_list = list1 + list2\n",
    "join_list"
   ]
  },
  {
   "cell_type": "code",
   "execution_count": 17,
   "id": "26742fd6",
   "metadata": {},
   "outputs": [
    {
     "ename": "TypeError",
     "evalue": "can't multiply sequence by non-int of type 'list'",
     "output_type": "error",
     "traceback": [
      "\u001b[1;31m---------------------------------------------------------------------------\u001b[0m",
      "\u001b[1;31mTypeError\u001b[0m                                 Traceback (most recent call last)",
      "Cell \u001b[1;32mIn[17], line 3\u001b[0m\n\u001b[0;32m      1\u001b[0m list1 \u001b[38;5;241m=\u001b[39m [\u001b[38;5;241m1\u001b[39m, \u001b[38;5;241m2\u001b[39m, \u001b[38;5;241m3\u001b[39m]\n\u001b[0;32m      2\u001b[0m list2 \u001b[38;5;241m=\u001b[39m [\u001b[38;5;241m4\u001b[39m, \u001b[38;5;241m5\u001b[39m]\n\u001b[1;32m----> 3\u001b[0m join_list \u001b[38;5;241m=\u001b[39m list1 \u001b[38;5;241m*\u001b[39mlist2\n\u001b[0;32m      4\u001b[0m join_list\n",
      "\u001b[1;31mTypeError\u001b[0m: can't multiply sequence by non-int of type 'list'"
     ]
    }
   ],
   "source": [
    "list1 = [1, 2, 3]\n",
    "list2 = [4, 5]\n",
    "join_list = list1 *list2\n",
    "join_list"
   ]
  },
  {
   "cell_type": "code",
   "execution_count": 18,
   "id": "d1dd663a",
   "metadata": {},
   "outputs": [
    {
     "data": {
      "text/plain": [
       "[1, 2, 3, 1, 2, 3]"
      ]
     },
     "execution_count": 18,
     "metadata": {},
     "output_type": "execute_result"
    }
   ],
   "source": [
    "list1 = [1, 2, 3]\n",
    "list1*2"
   ]
  },
  {
   "cell_type": "code",
   "execution_count": 19,
   "id": "7c11c496",
   "metadata": {},
   "outputs": [
    {
     "data": {
      "text/plain": [
       "[0, 0, 0, 0, 0]"
      ]
     },
     "execution_count": 19,
     "metadata": {},
     "output_type": "execute_result"
    }
   ],
   "source": [
    "[0] * 5 "
   ]
  },
  {
   "cell_type": "code",
   "execution_count": 20,
   "id": "5dbac49d",
   "metadata": {},
   "outputs": [
    {
     "data": {
      "text/plain": [
       "['$', '$', '$']"
      ]
     },
     "execution_count": 20,
     "metadata": {},
     "output_type": "execute_result"
    }
   ],
   "source": [
    "[\"$\"]*3"
   ]
  },
  {
   "cell_type": "code",
   "execution_count": 26,
   "id": "b8bae89c",
   "metadata": {},
   "outputs": [],
   "source": [
    "my_list = [1, 1.1, 'a', True]"
   ]
  },
  {
   "cell_type": "code",
   "execution_count": 22,
   "id": "b9c17f31",
   "metadata": {},
   "outputs": [
    {
     "name": "stdout",
     "output_type": "stream",
     "text": [
      "1      1\n",
      "1.1      1.1\n",
      "a      a\n",
      "True      True\n"
     ]
    }
   ],
   "source": [
    "print(my_list[0] , \"    \" , my_list[-4])\n",
    "\n",
    "print(my_list[1] , \"    \" , my_list[-3])\n",
    "print(my_list[2] , \"    \" , my_list[-2])\n",
    "print(my_list[3] , \"    \" , my_list[-1])"
   ]
  },
  {
   "cell_type": "code",
   "execution_count": 23,
   "id": "bdddf5aa",
   "metadata": {},
   "outputs": [
    {
     "data": {
      "text/plain": [
       "True"
      ]
     },
     "execution_count": 23,
     "metadata": {},
     "output_type": "execute_result"
    }
   ],
   "source": [
    "my_list[len(my_list) - 1] # aceess the last element of list"
   ]
  },
  {
   "cell_type": "code",
   "execution_count": 27,
   "id": "ff31e238",
   "metadata": {},
   "outputs": [
    {
     "ename": "IndexError",
     "evalue": "list index out of range",
     "output_type": "error",
     "traceback": [
      "\u001b[1;31m---------------------------------------------------------------------------\u001b[0m",
      "\u001b[1;31mIndexError\u001b[0m                                Traceback (most recent call last)",
      "Cell \u001b[1;32mIn[27], line 1\u001b[0m\n\u001b[1;32m----> 1\u001b[0m my_list[\u001b[38;5;241m4\u001b[39m]\n",
      "\u001b[1;31mIndexError\u001b[0m: list index out of range"
     ]
    }
   ],
   "source": [
    "my_list[4]"
   ]
  },
  {
   "cell_type": "code",
   "execution_count": 28,
   "id": "5e5a8a97",
   "metadata": {},
   "outputs": [
    {
     "data": {
      "text/plain": [
       "True"
      ]
     },
     "execution_count": 28,
     "metadata": {},
     "output_type": "execute_result"
    }
   ],
   "source": [
    "my_list[3]"
   ]
  },
  {
   "cell_type": "code",
   "execution_count": 29,
   "id": "4330eb26",
   "metadata": {},
   "outputs": [
    {
     "data": {
      "text/plain": [
       "[1, 1.1, 'a', True]"
      ]
     },
     "execution_count": 29,
     "metadata": {},
     "output_type": "execute_result"
    }
   ],
   "source": [
    "my_list = [1, 1.1, 'a', True]\n",
    "my_list"
   ]
  },
  {
   "cell_type": "code",
   "execution_count": 30,
   "id": "464c7c6f",
   "metadata": {},
   "outputs": [
    {
     "data": {
      "text/plain": [
       "[1, 1.1, 'a', True]"
      ]
     },
     "execution_count": 30,
     "metadata": {},
     "output_type": "execute_result"
    }
   ],
   "source": [
    "my_list[:]"
   ]
  },
  {
   "cell_type": "code",
   "execution_count": 31,
   "id": "91c3b145",
   "metadata": {},
   "outputs": [
    {
     "data": {
      "text/plain": [
       "[1.1, 'a']"
      ]
     },
     "execution_count": 31,
     "metadata": {},
     "output_type": "execute_result"
    }
   ],
   "source": [
    "my_list[1:3]"
   ]
  },
  {
   "cell_type": "code",
   "execution_count": 32,
   "id": "289576a0",
   "metadata": {},
   "outputs": [
    {
     "data": {
      "text/plain": [
       "[1.1, 'a', True]"
      ]
     },
     "execution_count": 32,
     "metadata": {},
     "output_type": "execute_result"
    }
   ],
   "source": [
    "my_list[1:]"
   ]
  },
  {
   "cell_type": "code",
   "execution_count": 33,
   "id": "5e4c6390",
   "metadata": {},
   "outputs": [
    {
     "data": {
      "text/plain": [
       "[1, 1.1]"
      ]
     },
     "execution_count": 33,
     "metadata": {},
     "output_type": "execute_result"
    }
   ],
   "source": [
    "my_list[:2]"
   ]
  },
  {
   "cell_type": "code",
   "execution_count": 34,
   "id": "e4272a40",
   "metadata": {},
   "outputs": [
    {
     "data": {
      "text/plain": [
       "[True, 'a', 1.1, 1]"
      ]
     },
     "execution_count": 34,
     "metadata": {},
     "output_type": "execute_result"
    }
   ],
   "source": [
    "my_list[::-1]"
   ]
  },
  {
   "cell_type": "code",
   "execution_count": 35,
   "id": "f0cc4363",
   "metadata": {},
   "outputs": [
    {
     "data": {
      "text/plain": [
       "[True, 1.1]"
      ]
     },
     "execution_count": 35,
     "metadata": {},
     "output_type": "execute_result"
    }
   ],
   "source": [
    "my_list[::-2]"
   ]
  },
  {
   "cell_type": "code",
   "execution_count": 36,
   "id": "eea3b8df",
   "metadata": {},
   "outputs": [],
   "source": [
    "my_number_list = [1, 2, 3, 4, 5, 6, 7]"
   ]
  },
  {
   "cell_type": "code",
   "execution_count": 37,
   "id": "1a55ad46",
   "metadata": {},
   "outputs": [
    {
     "data": {
      "text/plain": [
       "[2, 4]"
      ]
     },
     "execution_count": 37,
     "metadata": {},
     "output_type": "execute_result"
    }
   ],
   "source": [
    "my_number_list[1:5:2]"
   ]
  },
  {
   "cell_type": "code",
   "execution_count": 39,
   "id": "3bc2d42f",
   "metadata": {},
   "outputs": [
    {
     "data": {
      "text/plain": [
       "[2, 4]"
      ]
     },
     "execution_count": 39,
     "metadata": {},
     "output_type": "execute_result"
    }
   ],
   "source": [
    "my_number_list[1:-2:2]"
   ]
  },
  {
   "cell_type": "code",
   "execution_count": 40,
   "id": "12bb9f07",
   "metadata": {},
   "outputs": [
    {
     "data": {
      "text/plain": [
       "[]"
      ]
     },
     "execution_count": 40,
     "metadata": {},
     "output_type": "execute_result"
    }
   ],
   "source": [
    "my_number_list[-1:-6:2]"
   ]
  },
  {
   "cell_type": "code",
   "execution_count": 41,
   "id": "a628f1c4",
   "metadata": {},
   "outputs": [
    {
     "data": {
      "text/plain": [
       "[7, 5, 3]"
      ]
     },
     "execution_count": 41,
     "metadata": {},
     "output_type": "execute_result"
    }
   ],
   "source": [
    "my_number_list[-1:-6:-2]"
   ]
  },
  {
   "cell_type": "code",
   "execution_count": 42,
   "id": "9f0b0990",
   "metadata": {},
   "outputs": [
    {
     "data": {
      "text/plain": [
       "True"
      ]
     },
     "execution_count": 42,
     "metadata": {},
     "output_type": "execute_result"
    }
   ],
   "source": [
    "1 in my_list "
   ]
  },
  {
   "cell_type": "code",
   "execution_count": 43,
   "id": "f067422f",
   "metadata": {},
   "outputs": [
    {
     "data": {
      "text/plain": [
       "False"
      ]
     },
     "execution_count": 43,
     "metadata": {},
     "output_type": "execute_result"
    }
   ],
   "source": [
    "5 in my_list"
   ]
  },
  {
   "cell_type": "code",
   "execution_count": 44,
   "id": "1b52e029",
   "metadata": {},
   "outputs": [
    {
     "data": {
      "text/plain": [
       "True"
      ]
     },
     "execution_count": 44,
     "metadata": {},
     "output_type": "execute_result"
    }
   ],
   "source": [
    "5 not in my_list"
   ]
  },
  {
   "cell_type": "code",
   "execution_count": 45,
   "id": "7a2039be",
   "metadata": {},
   "outputs": [
    {
     "data": {
      "text/plain": [
       "28"
      ]
     },
     "execution_count": 45,
     "metadata": {},
     "output_type": "execute_result"
    }
   ],
   "source": [
    "sum(my_number_list)"
   ]
  },
  {
   "cell_type": "code",
   "execution_count": 46,
   "id": "ffcac597",
   "metadata": {},
   "outputs": [
    {
     "data": {
      "text/plain": [
       "7"
      ]
     },
     "execution_count": 46,
     "metadata": {},
     "output_type": "execute_result"
    }
   ],
   "source": [
    "max(my_number_list)"
   ]
  },
  {
   "cell_type": "code",
   "execution_count": 47,
   "id": "96c2a45f",
   "metadata": {},
   "outputs": [
    {
     "data": {
      "text/plain": [
       "1"
      ]
     },
     "execution_count": 47,
     "metadata": {},
     "output_type": "execute_result"
    }
   ],
   "source": [
    "min(my_number_list)"
   ]
  },
  {
   "cell_type": "code",
   "execution_count": 51,
   "id": "4183aeb3",
   "metadata": {},
   "outputs": [
    {
     "name": "stdout",
     "output_type": "stream",
     "text": [
      "Original list1\n",
      "list1---->    [1, 2, 3, 4, 5]\n"
     ]
    }
   ],
   "source": [
    "list1 = [1, 2, 3, 4, 5]\n",
    "print(\"Original list1\")\n",
    "print(\"list1---->   \", list1)"
   ]
  },
  {
   "cell_type": "code",
   "execution_count": 52,
   "id": "fe2e6b64",
   "metadata": {},
   "outputs": [
    {
     "name": "stdout",
     "output_type": "stream",
     "text": [
      "List2 is referring to list1, both having same elements\n",
      "list1---->    [1, 2, 3, 4, 5]\n",
      "list2---->    [1, 2, 3, 4, 5]\n"
     ]
    }
   ],
   "source": [
    "list2 = list1  # list2 is referring to list1, both having same elements\n",
    "print(\"List2 is referring to list1, both having same elements\")\n",
    "print(\"list1---->   \", list1)\n",
    "print(\"list2---->   \", list2)"
   ]
  },
  {
   "cell_type": "code",
   "execution_count": 53,
   "id": "4b757957",
   "metadata": {},
   "outputs": [
    {
     "name": "stdout",
     "output_type": "stream",
     "text": [
      "After aletring the first element of list1, list2 is also altered\n",
      "list1---->    ['a', 2, 3, 4, 5]\n",
      "list2---->    ['a', 2, 3, 4, 5]\n"
     ]
    }
   ],
   "source": [
    "#Alter the element of list1 , both lists will get altered\n",
    "list1[0] = 'a' #change first element of list1 \n",
    "print(\"After aletring the first element of list1, list2 is also altered\")\n",
    "print(\"list1---->   \", list1)\n",
    "print(\"list2---->   \", list2)"
   ]
  },
  {
   "cell_type": "code",
   "execution_count": 54,
   "id": "7c70fbca",
   "metadata": {},
   "outputs": [
    {
     "name": "stdout",
     "output_type": "stream",
     "text": [
      "After aletring the fourth element of list2, list1 is also altered\n",
      "list2---->    ['a', 2, 3, '***', 5]\n",
      "list1---->    ['a', 2, 3, '***', 5]\n"
     ]
    }
   ],
   "source": [
    "#Alter the element of list2 , both lists will get altered\n",
    "list2[3] = '***' #change fourth element of list2\n",
    "print(\"After aletring the fourth element of list2, list1 is also altered\")\n",
    "print(\"list2---->   \", list2)\n",
    "print(\"list1---->   \", list1)"
   ]
  },
  {
   "cell_type": "code",
   "execution_count": 56,
   "id": "e4d94952",
   "metadata": {},
   "outputs": [
    {
     "name": "stdout",
     "output_type": "stream",
     "text": [
      "-5\n"
     ]
    }
   ],
   "source": [
    "orig_list = ['a', 'b', 'c', 'd', 'e']\n",
    "length = len(orig_list)\n",
    "length = length * (-1)\n",
    "print(length)"
   ]
  },
  {
   "cell_type": "code",
   "execution_count": 57,
   "id": "309906e5",
   "metadata": {},
   "outputs": [
    {
     "name": "stdout",
     "output_type": "stream",
     "text": [
      "Original list  [8, 9, 10]\n",
      "\n",
      "(a) Set the second entry to 17---> [8, 17, 10]\n"
     ]
    }
   ],
   "source": [
    "L = [ 8, 9 , 10]\n",
    "print(\"Original list \", L)\n",
    "\n",
    "#(a) Set the second entry to 17 \n",
    "L[1] = 17 \n",
    "print()\n",
    "print(\"(a) Set the second entry to 17--->\", L)"
   ]
  },
  {
   "cell_type": "code",
   "execution_count": 66,
   "id": "315391f0",
   "metadata": {},
   "outputs": [],
   "source": [
    "lis = [2,3,[84,67,3,57,[8,6,35,346,25,6,0],8,4],46,7,4,56,8,45,3,7,83,7]"
   ]
  },
  {
   "cell_type": "code",
   "execution_count": 70,
   "id": "5281ebbe",
   "metadata": {},
   "outputs": [
    {
     "data": {
      "text/plain": [
       "346"
      ]
     },
     "execution_count": 70,
     "metadata": {},
     "output_type": "execute_result"
    }
   ],
   "source": [
    "lis[2][4][3]"
   ]
  },
  {
   "cell_type": "code",
   "execution_count": null,
   "id": "50310955",
   "metadata": {},
   "outputs": [],
   "source": []
  }
 ],
 "metadata": {
  "kernelspec": {
   "display_name": "Python 3 (ipykernel)",
   "language": "python",
   "name": "python3"
  },
  "language_info": {
   "codemirror_mode": {
    "name": "ipython",
    "version": 3
   },
   "file_extension": ".py",
   "mimetype": "text/x-python",
   "name": "python",
   "nbconvert_exporter": "python",
   "pygments_lexer": "ipython3",
   "version": "3.11.5"
  }
 },
 "nbformat": 4,
 "nbformat_minor": 5
}
