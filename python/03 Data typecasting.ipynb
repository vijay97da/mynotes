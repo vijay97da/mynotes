{
 "cells": [
  {
   "cell_type": "markdown",
   "id": "9abe8247",
   "metadata": {},
   "source": [
    "# Data Typecasting"
   ]
  },
  {
   "cell_type": "code",
   "execution_count": 1,
   "id": "a1eda75c",
   "metadata": {},
   "outputs": [
    {
     "data": {
      "text/plain": [
       "3"
      ]
     },
     "execution_count": 1,
     "metadata": {},
     "output_type": "execute_result"
    }
   ],
   "source": [
    "int(3.5) #covert float to integer, loss of info"
   ]
  },
  {
   "cell_type": "code",
   "execution_count": 2,
   "id": "5e441dec",
   "metadata": {},
   "outputs": [
    {
     "data": {
      "text/plain": [
       "55.0"
      ]
     },
     "execution_count": 2,
     "metadata": {},
     "output_type": "execute_result"
    }
   ],
   "source": [
    "float(55)"
   ]
  },
  {
   "cell_type": "code",
   "execution_count": 3,
   "id": "fb7a5efd",
   "metadata": {},
   "outputs": [
    {
     "data": {
      "text/plain": [
       "9"
      ]
     },
     "execution_count": 3,
     "metadata": {},
     "output_type": "execute_result"
    }
   ],
   "source": [
    "int(9.9) #loss of information"
   ]
  },
  {
   "cell_type": "code",
   "execution_count": 4,
   "id": "0de435fb",
   "metadata": {},
   "outputs": [
    {
     "data": {
      "text/plain": [
       "45"
      ]
     },
     "execution_count": 4,
     "metadata": {},
     "output_type": "execute_result"
    }
   ],
   "source": [
    "int(\"45\") #convert string to integer"
   ]
  },
  {
   "cell_type": "code",
   "execution_count": 7,
   "id": "f49fce20",
   "metadata": {},
   "outputs": [
    {
     "data": {
      "text/plain": [
       "int"
      ]
     },
     "execution_count": 7,
     "metadata": {},
     "output_type": "execute_result"
    }
   ],
   "source": [
    "type(int(45))"
   ]
  },
  {
   "cell_type": "code",
   "execution_count": 2,
   "id": "867ef9c1",
   "metadata": {},
   "outputs": [
    {
     "data": {
      "text/plain": [
       "str"
      ]
     },
     "execution_count": 2,
     "metadata": {},
     "output_type": "execute_result"
    }
   ],
   "source": [
    "type(\"i\")"
   ]
  },
  {
   "cell_type": "code",
   "execution_count": 3,
   "id": "987f758a",
   "metadata": {},
   "outputs": [],
   "source": [
    "v = (\"786\")"
   ]
  },
  {
   "cell_type": "code",
   "execution_count": 5,
   "id": "08fe6959",
   "metadata": {},
   "outputs": [
    {
     "data": {
      "text/plain": [
       "int"
      ]
     },
     "execution_count": 5,
     "metadata": {},
     "output_type": "execute_result"
    }
   ],
   "source": [
    "type(int(v)) #YOU CAN CHANGE THE TYPE RESULT BY USING INT,STRING,FLOAT AFTER USING TYPE FORMULA"
   ]
  },
  {
   "cell_type": "code",
   "execution_count": 7,
   "id": "28d47fcf",
   "metadata": {},
   "outputs": [
    {
     "data": {
      "text/plain": [
       "str"
      ]
     },
     "execution_count": 7,
     "metadata": {},
     "output_type": "execute_result"
    }
   ],
   "source": [
    "type(v)"
   ]
  },
  {
   "cell_type": "code",
   "execution_count": 9,
   "id": "c91a356f",
   "metadata": {},
   "outputs": [
    {
     "data": {
      "text/plain": [
       "8.0"
      ]
     },
     "execution_count": 9,
     "metadata": {},
     "output_type": "execute_result"
    }
   ],
   "source": [
    "float(8)"
   ]
  },
  {
   "cell_type": "code",
   "execution_count": 10,
   "id": "36024b16",
   "metadata": {},
   "outputs": [
    {
     "data": {
      "text/plain": [
       "float"
      ]
     },
     "execution_count": 10,
     "metadata": {},
     "output_type": "execute_result"
    }
   ],
   "source": [
    "type(56+29-5.0) # OR YOU CAN DIRECT CHECK THE VALUE BY PUTTING ANYTHING"
   ]
  },
  {
   "cell_type": "code",
   "execution_count": 11,
   "id": "56e811c0",
   "metadata": {},
   "outputs": [
    {
     "data": {
      "text/plain": [
       "str"
      ]
     },
     "execution_count": 11,
     "metadata": {},
     "output_type": "execute_result"
    }
   ],
   "source": [
    "type(\"vijay is one of the data analyst\")"
   ]
  },
  {
   "cell_type": "code",
   "execution_count": 14,
   "id": "72d26d75",
   "metadata": {},
   "outputs": [
    {
     "data": {
      "text/plain": [
       "type['malati', 1972, True]"
      ]
     },
     "execution_count": 14,
     "metadata": {},
     "output_type": "execute_result"
    }
   ],
   "source": [
    "type[\"malati\",1972,True] #THAT FORMULA ONLY WORK FOR THE STRING,INTEGER & FLOAT"
   ]
  },
  {
   "cell_type": "code",
   "execution_count": 15,
   "id": "c0830e27",
   "metadata": {},
   "outputs": [
    {
     "name": "stdout",
     "output_type": "stream",
     "text": [
      "<class 'str'>\n",
      "<class 'int'>\n",
      "<class 'float'>\n",
      "<class 'float'>\n"
     ]
    }
   ],
   "source": [
    "print(type('one'))\n",
    "print(type(1 or 2))\n",
    "print(type(1.4))\n",
    "print(type(1/2))"
   ]
  },
  {
   "cell_type": "code",
   "execution_count": 19,
   "id": "1e56a70b",
   "metadata": {},
   "outputs": [
    {
     "name": "stdout",
     "output_type": "stream",
     "text": [
      "who is the supreme personality krishna\n"
     ]
    }
   ],
   "source": [
    "que = input(\"who is the supreme personality\")"
   ]
  },
  {
   "cell_type": "code",
   "execution_count": 20,
   "id": "23fef2f8",
   "metadata": {},
   "outputs": [
    {
     "name": "stdout",
     "output_type": "stream",
     "text": [
      "Enter 1st num99\n",
      "Enter 2nd num100\n"
     ]
    }
   ],
   "source": [
    "num1 = int(input(\"Enter 1st num\"))\n",
    "num2 = int(input(\"Enter 2nd num\"))\n"
   ]
  },
  {
   "cell_type": "code",
   "execution_count": 21,
   "id": "6c4e630a",
   "metadata": {},
   "outputs": [
    {
     "name": "stdout",
     "output_type": "stream",
     "text": [
      "99 100\n"
     ]
    }
   ],
   "source": [
    "print(num1,num2)"
   ]
  },
  {
   "cell_type": "code",
   "execution_count": 27,
   "id": "7936f798",
   "metadata": {},
   "outputs": [
    {
     "name": "stdout",
     "output_type": "stream",
     "text": [
      "who is the supreme lord ? krishna\n",
      " & who controls the supreme lord ? radha rani\n",
      " krishna  radha rani\n"
     ]
    }
   ],
   "source": [
    "que1 = input(\"who is the supreme lord ?\")\n",
    "que2 = input(\" & who controls the supreme lord ?\")\n",
    "\n",
    "print(que1,que2)"
   ]
  },
  {
   "cell_type": "code",
   "execution_count": 29,
   "id": "ab96bfca",
   "metadata": {},
   "outputs": [
    {
     "name": "stdout",
     "output_type": "stream",
     "text": [
      " krishna &  radha rani\n"
     ]
    }
   ],
   "source": [
    "print(que1,\"&\",que2)"
   ]
  },
  {
   "cell_type": "code",
   "execution_count": 30,
   "id": "8b17da0e",
   "metadata": {},
   "outputs": [
    {
     "name": "stdout",
     "output_type": "stream",
     "text": [
      "Enter 1st num45\n",
      "Enter 2nd numsomething\n"
     ]
    },
    {
     "ename": "ValueError",
     "evalue": "could not convert string to float: 'something'",
     "output_type": "error",
     "traceback": [
      "\u001b[1;31m---------------------------------------------------------------------------\u001b[0m",
      "\u001b[1;31mValueError\u001b[0m                                Traceback (most recent call last)",
      "Cell \u001b[1;32mIn[30], line 2\u001b[0m\n\u001b[0;32m      1\u001b[0m num3 \u001b[38;5;241m=\u001b[39m \u001b[38;5;28mint\u001b[39m(\u001b[38;5;28minput\u001b[39m(\u001b[38;5;124m\"\u001b[39m\u001b[38;5;124mEnter 1st num\u001b[39m\u001b[38;5;124m\"\u001b[39m))\n\u001b[1;32m----> 2\u001b[0m num4 \u001b[38;5;241m=\u001b[39m \u001b[38;5;28mfloat\u001b[39m(\u001b[38;5;28minput\u001b[39m(\u001b[38;5;124m\"\u001b[39m\u001b[38;5;124mEnter 2nd num\u001b[39m\u001b[38;5;124m\"\u001b[39m))\n\u001b[0;32m      4\u001b[0m \u001b[38;5;28mprint\u001b[39m(num3\u001b[38;5;241m+\u001b[39mnum4)\n",
      "\u001b[1;31mValueError\u001b[0m: could not convert string to float: 'something'"
     ]
    }
   ],
   "source": [
    "num3 = int(input(\"Enter 1st num\"))\n",
    "num4 = float(input(\"Enter 2nd num\"))\n",
    "\n",
    "print(num3+num4) #SEE THE ERROR,WE PUT STRING INTO THE FLOAT"
   ]
  },
  {
   "cell_type": "code",
   "execution_count": 42,
   "id": "be7a2b61",
   "metadata": {},
   "outputs": [
    {
     "name": "stdout",
     "output_type": "stream",
     "text": [
      "krishna mantra\n",
      " hare krishna hare krishna\n",
      " hare krishna hare krishna\n"
     ]
    }
   ],
   "source": [
    "mantra = input(\"krishna mantra\\n\") # (/n)THIS IS NEXT LINE FUNCTION AND WE ALREADY KNOW THAT RIGHT\n",
    "print(mantra)"
   ]
  },
  {
   "cell_type": "code",
   "execution_count": 46,
   "id": "b28a004c",
   "metadata": {},
   "outputs": [
    {
     "name": "stdout",
     "output_type": "stream",
     "text": [
      "what is your age29\n",
      "gender 29 male\n",
      "type :  <class 'str'>\n"
     ]
    }
   ],
   "source": [
    "age = input(\"what is your age\")\n",
    "print(\"gender\",age,\"male\")\n",
    "print(\"type : \",type(age))"
   ]
  },
  {
   "cell_type": "code",
   "execution_count": 48,
   "id": "3f61b5d6",
   "metadata": {},
   "outputs": [
    {
     "name": "stdout",
     "output_type": "stream",
     "text": [
      "avg age of employee\n",
      "30\n",
      "30 new age 25\n"
     ]
    }
   ],
   "source": [
    "age = input(\"avg age of employee\\n\")\n",
    "new_avg_age = int(25)\n",
    "print(age,\"new age\",new_avg_age)"
   ]
  },
  {
   "cell_type": "code",
   "execution_count": 49,
   "id": "8bed5d72",
   "metadata": {},
   "outputs": [
    {
     "name": "stdout",
     "output_type": "stream",
     "text": [
      "What is your age?\n",
      "25\n",
      "You have entered age as  25\n",
      "Type :  <class 'int'>\n"
     ]
    }
   ],
   "source": [
    "age = input('What is your age?\\n')\n",
    "modified_age = int(age)\n",
    "print(\"You have entered age as \", modified_age)\n",
    "print(\"Type : \" , type(modified_age))"
   ]
  },
  {
   "cell_type": "code",
   "execution_count": 50,
   "id": "f412dbb8",
   "metadata": {},
   "outputs": [
    {
     "name": "stdout",
     "output_type": "stream",
     "text": [
      "What is your age?\n",
      "29.80\n",
      "You have entered age as  29.8\n",
      "Type :  <class 'float'>\n"
     ]
    }
   ],
   "source": [
    "age = input('What is your age?\\n')\n",
    "modified_age = float(age)\n",
    "print(\"You have entered age as \", modified_age)\n",
    "print(\"Type : \" , type(modified_age))"
   ]
  },
  {
   "cell_type": "code",
   "execution_count": 51,
   "id": "b84efc71",
   "metadata": {},
   "outputs": [
    {
     "name": "stdout",
     "output_type": "stream",
     "text": [
      "What is your age?\n",
      "25.25\n",
      "You have entered age as  25.25\n",
      "Type :  <class 'float'>\n"
     ]
    }
   ],
   "source": [
    "my_age = eval(input('What is your age?\\n')) #need some clarification\n",
    "print(\"You have entered age as \", my_age)\n",
    "print(\"Type : \" , type(my_age))"
   ]
  },
  {
   "cell_type": "code",
   "execution_count": 52,
   "id": "f997d8fd",
   "metadata": {},
   "outputs": [
    {
     "name": "stdout",
     "output_type": "stream",
     "text": [
      "What is your age?\n",
      "44\n",
      "You have entered age as  44\n",
      "Type :  <class 'int'>\n"
     ]
    }
   ],
   "source": [
    "my_age = eval(input('What is your age?\\n'))\n",
    "print(\"You have entered age as \", my_age)\n",
    "print(\"Type : \" , type(my_age))"
   ]
  },
  {
   "cell_type": "code",
   "execution_count": 53,
   "id": "182c91cb",
   "metadata": {},
   "outputs": [
    {
     "name": "stdout",
     "output_type": "stream",
     "text": [
      "Enter your marks\n",
      "99\n",
      "You have entered age as  99\n"
     ]
    }
   ],
   "source": [
    "my_total_marks = eval(input('Enter your marks\\n'))\n",
    "#Enter an expression like 23 + 34 + 45 \n",
    "print(\"You have entered age as \", my_total_marks)"
   ]
  },
  {
   "cell_type": "code",
   "execution_count": null,
   "id": "3f161e78",
   "metadata": {},
   "outputs": [],
   "source": []
  }
 ],
 "metadata": {
  "kernelspec": {
   "display_name": "Python 3 (ipykernel)",
   "language": "python",
   "name": "python3"
  },
  "language_info": {
   "codemirror_mode": {
    "name": "ipython",
    "version": 3
   },
   "file_extension": ".py",
   "mimetype": "text/x-python",
   "name": "python",
   "nbconvert_exporter": "python",
   "pygments_lexer": "ipython3",
   "version": "3.11.5"
  }
 },
 "nbformat": 4,
 "nbformat_minor": 5
}
